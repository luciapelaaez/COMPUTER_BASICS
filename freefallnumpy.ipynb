{
 "cells": [
  {
   "cell_type": "markdown",
   "metadata": {},
   "source": [
    "Homework: Analyzing Free Fall Of A Ball Using Numpy"
   ]
  },
  {
   "cell_type": "code",
   "execution_count": 4,
   "metadata": {},
   "outputs": [
    {
     "name": "stdout",
     "output_type": "stream",
     "text": [
      "The time at which the ball hit the ground is 13.254270092150517 seconds\n",
      "The average difference in position are -0.32532532532532527seconds\n"
     ]
    }
   ],
   "source": [
    "import numpy as np\n",
    "h= 325 #I chose this initial height\n",
    "g= 3.7 #I chose Mercury's gravity\n",
    "\n",
    "#From the function: np.linspace(start, stop, num) I create a murray of times with start at t=0 and with a num (or number of time points that are generated between 0 and the end time) of 1000\n",
    "#From the formula of free fall, the time when the ball stops is when it arrives to the floor, so 0=h-(1/2)gt^2, that means t=square root of 2h/g, in the code I put np.sqrt to specify that is the square root\n",
    "t =np.linspace(0,np.sqrt (2*h/g),1000)\n",
    "y = h-0.5*g*t**2\n",
    "differences_of_height= np.diff (y)\n",
    "average_of_differences_of_height= np.mean (differences_of_height)\n",
    "\n",
    "#I put t[-1] because in this point of the interval the ball hit the ground (it has to be a finite interval)\n",
    "time_ball_arrives = t[-1]\n",
    "print (f\"The time at which the ball hit the ground is {time_ball_arrives} seconds\")\n",
    "print (f\"The average difference in position are {average_of_differences_of_height}seconds\")\n",
    "\n",
    "\n"
   ]
  },
  {
   "cell_type": "code",
   "execution_count": null,
   "metadata": {},
   "outputs": [],
   "source": []
  },
  {
   "cell_type": "code",
   "execution_count": null,
   "metadata": {},
   "outputs": [],
   "source": []
  }
 ],
 "metadata": {
  "kernelspec": {
   "display_name": "Python 3",
   "language": "python",
   "name": "python3"
  },
  "language_info": {
   "codemirror_mode": {
    "name": "ipython",
    "version": 3
   },
   "file_extension": ".py",
   "mimetype": "text/x-python",
   "name": "python",
   "nbconvert_exporter": "python",
   "pygments_lexer": "ipython3",
   "version": "3.12.6"
  }
 },
 "nbformat": 4,
 "nbformat_minor": 2
}
